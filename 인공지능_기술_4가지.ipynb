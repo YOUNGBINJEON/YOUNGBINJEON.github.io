{
  "nbformat": 4,
  "nbformat_minor": 0,
  "metadata": {
    "colab": {
      "name": "인공지능 기술 4가지.ipynb",
      "provenance": [],
      "collapsed_sections": [],
      "authorship_tag": "ABX9TyPBJMPpwiyLpU3DdW/D60Le",
      "include_colab_link": true
    },
    "kernelspec": {
      "name": "python3",
      "display_name": "Python 3"
    }
  },
  "cells": [
    {
      "cell_type": "markdown",
      "metadata": {
        "id": "view-in-github",
        "colab_type": "text"
      },
      "source": [
        "<a href=\"https://colab.research.google.com/github/YOUNGBINJEON/YOUNGBINJEON.github.io/blob/master/%EC%9D%B8%EA%B3%B5%EC%A7%80%EB%8A%A5_%EA%B8%B0%EC%88%A0_4%EA%B0%80%EC%A7%80.ipynb\" target=\"_parent\"><img src=\"https://colab.research.google.com/assets/colab-badge.svg\" alt=\"Open In Colab\"/></a>"
      ]
    },
    {
      "cell_type": "markdown",
      "metadata": {
        "id": "yjpdrLqk6SOh",
        "colab_type": "text"
      },
      "source": [
        "# **인공지능 기술 4가지 분야**\n",
        "\n",
        "## **1. 음성**\n",
        "\n",
        "*   음성기술과 관련된 인공지능 비서 역할을 하는 국내외 대표 서비스 및 제품\n",
        "\n",
        "\n",
        "\n",
        "\n",
        "![알렉사](https://post-phinf.pstatic.net/MjAxNzA5MjBfMjE2/MDAxNTA1OTA3MTY3ODAw.a0nNV2o9DPRu6FYZXkMx_OGo52PsCKIj8YFWvQvteBQg.EOCeujUF-D7fr1-8RhcO74mEcWMi7ZoSSANA-y-idgwg.JPEG/amazon-echo.jpg?type=w1200)\n",
        "> 아마존 [\"알렉사\"](https://amazon.jobs/en/business_categories/alexa)\n",
        "\n",
        "![구글 어시스턴트](https://www.bloter.net/wp-content/uploads/2017/09/%EA%B5%AC%EA%B8%80-%EC%96%B4%EC%8B%9C%EC%8A%A4%ED%84%B4%ED%8A%B8-%ED%95%9C%EA%B5%AD%EC%96%B4-%EC%84%9C%EB%B9%84%EC%8A%A4-%EC%B6%9C%EC%8B%9C4-765x1045.jpg)\n",
        "> 구글 [\"어시스턴트\"](https://assistant.google.com/intl/ko_kr/)\n",
        "\n",
        "![애플 시리](https://img.huffingtonpost.com/asset/5d714f942500007a120520be.jpeg?ops=scalefit_630_noupscale)\n",
        "> 애플 [\"시리\"](https://www.apple.com/kr/siri/)\n",
        "\n",
        "![네이버 클로바](https://newsimg.hankookilbo.com/2017/05/12/201705121577726002_1.jpg)\n",
        "> 네이버 [\"클로바\"](https://clova.ai/ko)\n",
        "\n",
        "![카카오i](https://t1.kakaocdn.net/kakao_ai_brandsite/RETINA/img_about_190108.png)\n",
        "> 카카오 [\"아이\"](https://kakao.ai/)\n",
        "\n",
        "---\n",
        "\n",
        "## **2. 언어**\n",
        "\n",
        "* 사람과 사람이 대화하는 과정에서 실시간 번역을 해주는 서비스\n",
        "\n",
        "![구글 픽셀 버즈](https://mblogthumb-phinf.pstatic.net/MjAxODEyMjhfOCAg/MDAxNTQ1OTcxNjAyNDc4.RtGPCe_7Pssvbvspyhl9bOrv9u__V-jyXr-Z80SJfxEg.AZxm3HO-kqwIa5DEIa51hbDOqSpodL7gIfw5ryP_cxcg.GIF.businessinsight/zz.gif?type=w800)\n",
        "\n",
        ">\"픽셀 버즈\" 기기와 \"구글 어시스턴트\" 서비스를 결합하여 [구글 실시간 번역](https://youtu.be/I6r4y17bV8g) 제공\n",
        "\n",
        "\n",
        "---\n",
        "\n",
        "## **3. 이미지**\n",
        "\n",
        "* 사진 속 사물의 형태, 색상을 분석하여 사진을 분류하는 서비스\n",
        "\n",
        "> 구글의 [\"Vision AI\"](https://cloud.google.com/vision?hl=ko)\n",
        "\n",
        "> imagga의 [\"image AI\"](https://imagga.com/)\n",
        "\n",
        "---\n",
        "\n",
        "## **4. 자율주행**\n",
        "\n",
        "* 사물 인식을 통해 자동차, 기기의 자율 주행을 도와주는 서비스\n",
        "\n",
        "\n",
        "![오토 파일럿](https://bigdatanomics.org/images/BDMOTphoto/autonomous-car-Tesla.gif)\n",
        "> 테슬라의 [\"오토 파일럿\"](https://www.tesla.com/ko_KR/autopilot)\n",
        "\n",
        "\n",
        "\n",
        "\n",
        "![스카이디오 2](https://spectrum.ieee.org/image/MzU2ODU1Mg.gif)\n",
        "\n",
        "> skydio의 [\"Skydio Autonomy\"](https://medium.com/skydio)"
      ]
    },
    {
      "cell_type": "markdown",
      "metadata": {
        "id": "BGbBZFFQT6Zr",
        "colab_type": "text"
      },
      "source": [
        ""
      ]
    }
  ]
}